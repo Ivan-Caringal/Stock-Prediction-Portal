{
 "cells": [
  {
   "cell_type": "code",
   "execution_count": 1,
   "id": "4d2e9f6b-3448-4dfd-9901-2b4b0ea113db",
   "metadata": {},
   "outputs": [
    {
     "name": "stdout",
     "output_type": "stream",
     "text": [
      "hello world\n"
     ]
    }
   ],
   "source": [
    "print ('hello world')"
   ]
  },
  {
   "cell_type": "code",
   "execution_count": null,
   "id": "a459e4ad-fabe-4f93-a256-5006687cfa17",
   "metadata": {},
   "outputs": [],
   "source": [
    "print ('hello world')"
   ]
  }
 ],
 "metadata": {
  "kernelspec": {
   "display_name": "Python 3 (ipykernel)",
   "language": "python",
   "name": "python3"
  },
  "language_info": {
   "codemirror_mode": {
    "name": "ipython",
    "version": 3
   },
   "file_extension": ".py",
   "mimetype": "text/x-python",
   "name": "python",
   "nbconvert_exporter": "python",
   "pygments_lexer": "ipython3",
   "version": "3.13.5"
  }
 },
 "nbformat": 4,
 "nbformat_minor": 5
}
